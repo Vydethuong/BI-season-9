{
 "cells": [
  {
   "cell_type": "code",
   "execution_count": null,
   "id": "032fd40d",
   "metadata": {},
   "outputs": [],
   "source": [
    "\n",
    "import pandas as pd\n",
    "import numpy as np\n",
    "from sklearn.model_selection import train_test_split, GridSearchCV\n",
    "from sklearn.ensemble import RandomForestClassifier\n",
    "from sklearn.preprocessing import StandardScaler, LabelEncoder\n",
    "from sklearn.metrics import classification_report, confusion_matrix, roc_auc_score\n",
    "import matplotlib.pyplot as plt\n",
    "import seaborn as sns\n",
    "\n"
   ]
  },
  {
   "cell_type": "markdown",
   "id": "135a3e14",
   "metadata": {},
   "source": [
    "import data"
   ]
  },
  {
   "cell_type": "code",
   "execution_count": 25,
   "id": "93355e7c",
   "metadata": {},
   "outputs": [
    {
     "name": "stdout",
     "output_type": "stream",
     "text": [
      "Merge completed. Final shape: (11761, 37)\n"
     ]
    },
    {
     "data": {
      "text/html": [
       "<div>\n",
       "<style scoped>\n",
       "    .dataframe tbody tr th:only-of-type {\n",
       "        vertical-align: middle;\n",
       "    }\n",
       "\n",
       "    .dataframe tbody tr th {\n",
       "        vertical-align: top;\n",
       "    }\n",
       "\n",
       "    .dataframe thead th {\n",
       "        text-align: right;\n",
       "    }\n",
       "</style>\n",
       "<table border=\"1\" class=\"dataframe\">\n",
       "  <thead>\n",
       "    <tr style=\"text-align: right;\">\n",
       "      <th></th>\n",
       "      <th>ID</th>\n",
       "      <th>City</th>\n",
       "      <th>Group_size</th>\n",
       "      <th>Age</th>\n",
       "      <th>MPI#Mean</th>\n",
       "      <th>TOM</th>\n",
       "      <th>BUMO</th>\n",
       "      <th>BUMO_Previous</th>\n",
       "      <th>MostFavourite</th>\n",
       "      <th>Gender</th>\n",
       "      <th>...</th>\n",
       "      <th>spending_y</th>\n",
       "      <th>ppa_y</th>\n",
       "      <th>awareness</th>\n",
       "      <th>companion#group</th>\n",
       "      <th>visit#dayofweek</th>\n",
       "      <th>weekday#end</th>\n",
       "      <th>visit#daypart</th>\n",
       "      <th>daypart</th>\n",
       "      <th>needstategroup</th>\n",
       "      <th>needstates</th>\n",
       "    </tr>\n",
       "  </thead>\n",
       "  <tbody>\n",
       "    <tr>\n",
       "      <th>0</th>\n",
       "      <td>348226</td>\n",
       "      <td>0.0</td>\n",
       "      <td>3.0</td>\n",
       "      <td>29.0</td>\n",
       "      <td>5499.0</td>\n",
       "      <td>16.0</td>\n",
       "      <td>16.0</td>\n",
       "      <td>13.0</td>\n",
       "      <td>16.0</td>\n",
       "      <td>0.0</td>\n",
       "      <td>...</td>\n",
       "      <td>NaN</td>\n",
       "      <td>NaN</td>\n",
       "      <td>trung nguyên</td>\n",
       "      <td>Friends</td>\n",
       "      <td>20.0</td>\n",
       "      <td>Weekends</td>\n",
       "      <td>12.0</td>\n",
       "      <td>9 AM - before 11 AM</td>\n",
       "      <td>Drinking beverages</td>\n",
       "      <td>Drinking coffee</td>\n",
       "    </tr>\n",
       "    <tr>\n",
       "      <th>1</th>\n",
       "      <td>358485</td>\n",
       "      <td>1.0</td>\n",
       "      <td>3.0</td>\n",
       "      <td>25.0</td>\n",
       "      <td>5499.0</td>\n",
       "      <td>16.0</td>\n",
       "      <td>16.0</td>\n",
       "      <td>13.0</td>\n",
       "      <td>16.0</td>\n",
       "      <td>1.0</td>\n",
       "      <td>...</td>\n",
       "      <td>NaN</td>\n",
       "      <td>NaN</td>\n",
       "      <td>highlands coffee</td>\n",
       "      <td>Friends</td>\n",
       "      <td>16.0</td>\n",
       "      <td>Weekdays</td>\n",
       "      <td>14.0</td>\n",
       "      <td>5 PM - before 9 PM</td>\n",
       "      <td>Drinking beverages</td>\n",
       "      <td>Drinking coffee</td>\n",
       "    </tr>\n",
       "    <tr>\n",
       "      <th>2</th>\n",
       "      <td>360729</td>\n",
       "      <td>0.0</td>\n",
       "      <td>3.0</td>\n",
       "      <td>25.0</td>\n",
       "      <td>5499.0</td>\n",
       "      <td>16.0</td>\n",
       "      <td>16.0</td>\n",
       "      <td>13.0</td>\n",
       "      <td>16.0</td>\n",
       "      <td>0.0</td>\n",
       "      <td>...</td>\n",
       "      <td>NaN</td>\n",
       "      <td>NaN</td>\n",
       "      <td>trung nguyên</td>\n",
       "      <td>Friends</td>\n",
       "      <td>20.0</td>\n",
       "      <td>Weekends</td>\n",
       "      <td>12.0</td>\n",
       "      <td>5 PM - before 9 PM</td>\n",
       "      <td>Drinking beverages</td>\n",
       "      <td>Drinking coffee</td>\n",
       "    </tr>\n",
       "    <tr>\n",
       "      <th>3</th>\n",
       "      <td>360737</td>\n",
       "      <td>0.0</td>\n",
       "      <td>3.0</td>\n",
       "      <td>24.0</td>\n",
       "      <td>5499.0</td>\n",
       "      <td>16.0</td>\n",
       "      <td>16.0</td>\n",
       "      <td>13.0</td>\n",
       "      <td>16.0</td>\n",
       "      <td>1.0</td>\n",
       "      <td>...</td>\n",
       "      <td>NaN</td>\n",
       "      <td>NaN</td>\n",
       "      <td>trung nguyên</td>\n",
       "      <td>Friends</td>\n",
       "      <td>28.0</td>\n",
       "      <td>Weekdays</td>\n",
       "      <td>24.0</td>\n",
       "      <td>Before 9 AM</td>\n",
       "      <td>Drinking beverages</td>\n",
       "      <td>Drinking coffee</td>\n",
       "    </tr>\n",
       "    <tr>\n",
       "      <th>4</th>\n",
       "      <td>361753</td>\n",
       "      <td>0.0</td>\n",
       "      <td>3.0</td>\n",
       "      <td>26.0</td>\n",
       "      <td>5499.0</td>\n",
       "      <td>16.0</td>\n",
       "      <td>16.0</td>\n",
       "      <td>13.0</td>\n",
       "      <td>16.0</td>\n",
       "      <td>1.0</td>\n",
       "      <td>...</td>\n",
       "      <td>NaN</td>\n",
       "      <td>NaN</td>\n",
       "      <td>street</td>\n",
       "      <td>Friends</td>\n",
       "      <td>20.0</td>\n",
       "      <td>Weekends</td>\n",
       "      <td>17.0</td>\n",
       "      <td>5 PM - before 9 PM</td>\n",
       "      <td>Drinking beverages</td>\n",
       "      <td>Drinking coffee</td>\n",
       "    </tr>\n",
       "  </tbody>\n",
       "</table>\n",
       "<p>5 rows × 37 columns</p>\n",
       "</div>"
      ],
      "text/plain": [
       "       ID  City  Group_size   Age  MPI#Mean   TOM  BUMO  BUMO_Previous  \\\n",
       "0  348226   0.0         3.0  29.0    5499.0  16.0  16.0           13.0   \n",
       "1  358485   1.0         3.0  25.0    5499.0  16.0  16.0           13.0   \n",
       "2  360729   0.0         3.0  25.0    5499.0  16.0  16.0           13.0   \n",
       "3  360737   0.0         3.0  24.0    5499.0  16.0  16.0           13.0   \n",
       "4  361753   0.0         3.0  26.0    5499.0  16.0  16.0           13.0   \n",
       "\n",
       "   MostFavourite  Gender  ... spending_y ppa_y         awareness  \\\n",
       "0           16.0     0.0  ...        NaN   NaN      trung nguyên   \n",
       "1           16.0     1.0  ...        NaN   NaN  highlands coffee   \n",
       "2           16.0     0.0  ...        NaN   NaN      trung nguyên   \n",
       "3           16.0     1.0  ...        NaN   NaN      trung nguyên   \n",
       "4           16.0     1.0  ...        NaN   NaN            street   \n",
       "\n",
       "   companion#group  visit#dayofweek  weekday#end  visit#daypart  \\\n",
       "0          Friends             20.0     Weekends           12.0   \n",
       "1          Friends             16.0     Weekdays           14.0   \n",
       "2          Friends             20.0     Weekends           12.0   \n",
       "3          Friends             28.0     Weekdays           24.0   \n",
       "4          Friends             20.0     Weekends           17.0   \n",
       "\n",
       "               daypart      needstategroup       needstates  \n",
       "0  9 AM - before 11 AM  Drinking beverages  Drinking coffee  \n",
       "1   5 PM - before 9 PM  Drinking beverages  Drinking coffee  \n",
       "2   5 PM - before 9 PM  Drinking beverages  Drinking coffee  \n",
       "3          Before 9 AM  Drinking beverages  Drinking coffee  \n",
       "4   5 PM - before 9 PM  Drinking beverages  Drinking coffee  \n",
       "\n",
       "[5 rows x 37 columns]"
      ]
     },
     "execution_count": 25,
     "metadata": {},
     "output_type": "execute_result"
    }
   ],
   "source": [
    "base_path = \"../cleaned_data/\"\n",
    "\n",
    "# Load base demographic table (one row per ID)\n",
    "df = pd.read_csv(base_path + \"SA_var_cleaned.csv\", low_memory=False)\n",
    "\n",
    "# Load brand_health\n",
    "brand_health = pd.read_csv(base_path + \"Brand_Health_cleaned.csv\", low_memory=False)\n",
    "brand_health.columns = brand_health.columns.str.strip().str.lower()\n",
    "\n",
    "# Convert numeric columns and select proper aggregation\n",
    "numeric_cols = [\n",
    "    \"p3m\", \"p1m\", \"comprehension\", \"brand_likability\", \"nps_p3m\",\n",
    "    \"fre_visit\", \"ppa\", \"spending\", \"spending_use\"\n",
    "]\n",
    "for col in numeric_cols:\n",
    "    brand_health[col] = pd.to_numeric(brand_health[col], errors=\"coerce\")\n",
    "\n",
    "# Use \"first\" for nps_p3m_group\n",
    "agg_health = brand_health.groupby(\"id\").agg({\n",
    "    \"p3m\": \"max\",\n",
    "    \"p1m\": \"max\",\n",
    "    \"comprehension\": \"mean\",\n",
    "    \"brand_likability\": \"mean\",\n",
    "    \"nps_p3m\": \"mean\",\n",
    "    \"nps_p3m_group\": \"first\",\n",
    "    \"fre_visit\": \"sum\",\n",
    "    \"ppa\": \"mean\",\n",
    "    \"spending\": \"sum\",\n",
    "    \"spending_use\": \"sum\"\n",
    "}).reset_index().rename(columns={\"id\": \"ID\"})\n",
    "df = df.merge(agg_health, on=\"ID\", how=\"left\")\n",
    "\n",
    "# Load segmentation\n",
    "segmentation = pd.read_csv(base_path + \"Segmentation_cleaned.csv\", low_memory=False)\n",
    "segmentation.columns = segmentation.columns.str.strip().str.lower()\n",
    "agg_seg = segmentation.groupby(\"id\").agg({\n",
    "    \"segmentation\": \"first\",\n",
    "    \"visit\": \"sum\",\n",
    "    \"spending\": \"sum\",\n",
    "    \"ppa\": \"mean\"\n",
    "}).reset_index().rename(columns={\"id\": \"ID\"})\n",
    "df = df.merge(agg_seg, on=\"ID\", how=\"left\")\n",
    "\n",
    "# Load and merge other tables (brand_image, companion, dayofweek, daypart, needstate)\n",
    "# 1. Brand_Image\n",
    "brand_image = pd.read_csv(base_path + \"Brand_Image_cleaned.csv\", low_memory=False)\n",
    "brand_image.columns = brand_image.columns.str.strip().str.lower()\n",
    "df = df.merge(brand_image.groupby(\"id\")[\"awareness\"].first().reset_index().rename(columns={\"id\": \"ID\"}), on=\"ID\", how=\"left\")\n",
    "\n",
    "# 2. Companion\n",
    "companion = pd.read_csv(base_path + \"Companion_cleaned.csv\", low_memory=False)\n",
    "companion.columns = companion.columns.str.strip().str.lower()\n",
    "df = df.merge(companion.groupby(\"id\")[\"companion#group\"].first().reset_index().rename(columns={\"id\": \"ID\"}), on=\"ID\", how=\"left\")\n",
    "\n",
    "# 3. Dayofweek\n",
    "dayofweek = pd.read_csv(base_path + \"Dayofweek_cleaned.csv\", low_memory=False)\n",
    "dayofweek.columns = dayofweek.columns.str.strip().str.lower()\n",
    "df = df.merge(\n",
    "    dayofweek.groupby(\"id\").agg({\"visit#dayofweek\": \"sum\", \"weekday#end\": \"first\"}).reset_index().rename(columns={\"id\": \"ID\"}),\n",
    "    on=\"ID\", how=\"left\"\n",
    ")\n",
    "\n",
    "# 4. Daypart\n",
    "daypart = pd.read_csv(base_path + \"Daypart_cleaned.csv\", low_memory=False)\n",
    "daypart.columns = daypart.columns.str.strip().str.lower()\n",
    "df = df.merge(\n",
    "    daypart.groupby(\"id\").agg({\"visit#daypart\": \"sum\", \"daypart\": \"first\"}).reset_index().rename(columns={\"id\": \"ID\"}),\n",
    "    on=\"ID\", how=\"left\"\n",
    ")\n",
    "\n",
    "# 5. Needstate\n",
    "needstate = pd.read_csv(base_path + \"NeedstateDayDaypart_cleaned.csv\", low_memory=False)\n",
    "needstate.columns = needstate.columns.str.strip().str.lower()\n",
    "df = df.merge(\n",
    "    needstate.groupby(\"id\").agg({\"needstategroup\": \"first\", \"needstates\": \"first\"}).reset_index().rename(columns={\"id\": \"ID\"}),\n",
    "    on=\"ID\", how=\"left\"\n",
    ")\n",
    "\n",
    "print(\"Merge completed. Final shape:\", df.shape)\n",
    "df.head()\n"
   ]
  },
  {
   "cell_type": "markdown",
   "id": "e19f4ed8",
   "metadata": {},
   "source": [
    "Các cột trong df sau khi merge"
   ]
  },
  {
   "cell_type": "code",
   "execution_count": 26,
   "id": "1608c20a",
   "metadata": {},
   "outputs": [
    {
     "name": "stdout",
     "output_type": "stream",
     "text": [
      "ID\n",
      "City\n",
      "Group_size\n",
      "Age\n",
      "MPI#Mean\n",
      "TOM\n",
      "BUMO\n",
      "BUMO_Previous\n",
      "MostFavourite\n",
      "Gender\n",
      "Age#Group#2\n",
      "MPI#2\n",
      "Occupation\n",
      "Occupation#group\n",
      "Year\n",
      "p3m\n",
      "p1m\n",
      "comprehension\n",
      "brand_likability\n",
      "nps_p3m\n",
      "nps_p3m_group\n",
      "fre_visit\n",
      "ppa_x\n",
      "spending_x\n",
      "spending_use\n",
      "segmentation\n",
      "visit\n",
      "spending_y\n",
      "ppa_y\n",
      "awareness\n",
      "companion#group\n",
      "visit#dayofweek\n",
      "weekday#end\n",
      "visit#daypart\n",
      "daypart\n",
      "needstategroup\n",
      "needstates\n"
     ]
    }
   ],
   "source": [
    "for col in df.columns:\n",
    "    print(col)"
   ]
  },
  {
   "cell_type": "markdown",
   "id": "b9dc7abc",
   "metadata": {},
   "source": [
    "# STEP 1: DATA PREPROCESSING & FEATURE ENGINEERING"
   ]
  },
  {
   "cell_type": "markdown",
   "id": "f7fc7d65",
   "metadata": {},
   "source": [
    "## Nhóm feature cần chuẩn bị "
   ]
  },
  {
   "cell_type": "code",
   "execution_count": 49,
   "id": "74c6ae36",
   "metadata": {},
   "outputs": [],
   "source": [
    "features = [\n",
    "    \"comprehension\", \"brand_likability\", \"nps_p3m\", \"nps_p3m_group\",   # perceptual\n",
    "    \"visit\", \"ppa_y\", \"spending_y\", \"visit#dayofweek\", \"visit#daypart\", # behavioral\n",
    "    \"segmentation\",                                                    # segmentation\n",
    "    \"companion#group\",                                                 # companionship\n",
    "    \"needstategroup\", \"needstates\",                                    # need state\n",
    "    \"Age\", \"Gender\", \"Occupation\", \"MPI#2\"                             # demographics\n",
    "]"
   ]
  },
  {
   "cell_type": "markdown",
   "id": "06347228",
   "metadata": {},
   "source": [
    "## Xử lý missing và encode "
   ]
  },
  {
   "cell_type": "code",
   "execution_count": 80,
   "id": "cdfebff5",
   "metadata": {},
   "outputs": [
    {
     "name": "stdout",
     "output_type": "stream",
     "text": [
      "Xử lý xong feature. Kích thước: (11761, 18)\n"
     ]
    },
    {
     "data": {
      "text/html": [
       "<div>\n",
       "<style scoped>\n",
       "    .dataframe tbody tr th:only-of-type {\n",
       "        vertical-align: middle;\n",
       "    }\n",
       "\n",
       "    .dataframe tbody tr th {\n",
       "        vertical-align: top;\n",
       "    }\n",
       "\n",
       "    .dataframe thead th {\n",
       "        text-align: right;\n",
       "    }\n",
       "</style>\n",
       "<table border=\"1\" class=\"dataframe\">\n",
       "  <thead>\n",
       "    <tr style=\"text-align: right;\">\n",
       "      <th></th>\n",
       "      <th>comprehension</th>\n",
       "      <th>brand_likability</th>\n",
       "      <th>nps_p3m</th>\n",
       "      <th>nps_p3m_group</th>\n",
       "      <th>visit</th>\n",
       "      <th>ppa_y</th>\n",
       "      <th>spending_y</th>\n",
       "      <th>visit#dayofweek</th>\n",
       "      <th>visit#daypart</th>\n",
       "      <th>segmentation</th>\n",
       "      <th>companion#group</th>\n",
       "      <th>needstategroup</th>\n",
       "      <th>needstates</th>\n",
       "      <th>Age</th>\n",
       "      <th>Gender</th>\n",
       "      <th>Occupation</th>\n",
       "      <th>MPI#2</th>\n",
       "      <th>segment_cluster</th>\n",
       "    </tr>\n",
       "  </thead>\n",
       "  <tbody>\n",
       "    <tr>\n",
       "      <th>0</th>\n",
       "      <td>0.0</td>\n",
       "      <td>0.0</td>\n",
       "      <td>7.500000</td>\n",
       "      <td>0</td>\n",
       "      <td>8.0</td>\n",
       "      <td>25.0</td>\n",
       "      <td>160.0</td>\n",
       "      <td>20.0</td>\n",
       "      <td>12.0</td>\n",
       "      <td>5</td>\n",
       "      <td>4</td>\n",
       "      <td>0</td>\n",
       "      <td>0</td>\n",
       "      <td>29.0</td>\n",
       "      <td>0.0</td>\n",
       "      <td>27.0</td>\n",
       "      <td>1</td>\n",
       "      <td>1</td>\n",
       "    </tr>\n",
       "    <tr>\n",
       "      <th>1</th>\n",
       "      <td>0.0</td>\n",
       "      <td>0.0</td>\n",
       "      <td>8.250000</td>\n",
       "      <td>2</td>\n",
       "      <td>8.0</td>\n",
       "      <td>25.0</td>\n",
       "      <td>160.0</td>\n",
       "      <td>16.0</td>\n",
       "      <td>14.0</td>\n",
       "      <td>5</td>\n",
       "      <td>4</td>\n",
       "      <td>0</td>\n",
       "      <td>0</td>\n",
       "      <td>25.0</td>\n",
       "      <td>1.0</td>\n",
       "      <td>27.0</td>\n",
       "      <td>1</td>\n",
       "      <td>1</td>\n",
       "    </tr>\n",
       "    <tr>\n",
       "      <th>2</th>\n",
       "      <td>0.0</td>\n",
       "      <td>0.0</td>\n",
       "      <td>8.000000</td>\n",
       "      <td>3</td>\n",
       "      <td>8.0</td>\n",
       "      <td>25.0</td>\n",
       "      <td>160.0</td>\n",
       "      <td>20.0</td>\n",
       "      <td>12.0</td>\n",
       "      <td>5</td>\n",
       "      <td>4</td>\n",
       "      <td>0</td>\n",
       "      <td>0</td>\n",
       "      <td>25.0</td>\n",
       "      <td>0.0</td>\n",
       "      <td>27.0</td>\n",
       "      <td>1</td>\n",
       "      <td>1</td>\n",
       "    </tr>\n",
       "    <tr>\n",
       "      <th>3</th>\n",
       "      <td>0.0</td>\n",
       "      <td>0.0</td>\n",
       "      <td>7.333333</td>\n",
       "      <td>0</td>\n",
       "      <td>8.0</td>\n",
       "      <td>25.0</td>\n",
       "      <td>160.0</td>\n",
       "      <td>28.0</td>\n",
       "      <td>24.0</td>\n",
       "      <td>5</td>\n",
       "      <td>4</td>\n",
       "      <td>0</td>\n",
       "      <td>0</td>\n",
       "      <td>24.0</td>\n",
       "      <td>1.0</td>\n",
       "      <td>24.0</td>\n",
       "      <td>1</td>\n",
       "      <td>1</td>\n",
       "    </tr>\n",
       "    <tr>\n",
       "      <th>4</th>\n",
       "      <td>0.0</td>\n",
       "      <td>0.0</td>\n",
       "      <td>8.000000</td>\n",
       "      <td>2</td>\n",
       "      <td>8.0</td>\n",
       "      <td>25.0</td>\n",
       "      <td>160.0</td>\n",
       "      <td>20.0</td>\n",
       "      <td>17.0</td>\n",
       "      <td>5</td>\n",
       "      <td>4</td>\n",
       "      <td>0</td>\n",
       "      <td>0</td>\n",
       "      <td>26.0</td>\n",
       "      <td>1.0</td>\n",
       "      <td>23.0</td>\n",
       "      <td>1</td>\n",
       "      <td>1</td>\n",
       "    </tr>\n",
       "    <tr>\n",
       "      <th>5</th>\n",
       "      <td>0.0</td>\n",
       "      <td>0.0</td>\n",
       "      <td>8.333333</td>\n",
       "      <td>2</td>\n",
       "      <td>8.0</td>\n",
       "      <td>25.0</td>\n",
       "      <td>160.0</td>\n",
       "      <td>28.0</td>\n",
       "      <td>24.0</td>\n",
       "      <td>5</td>\n",
       "      <td>4</td>\n",
       "      <td>0</td>\n",
       "      <td>0</td>\n",
       "      <td>33.0</td>\n",
       "      <td>1.0</td>\n",
       "      <td>27.0</td>\n",
       "      <td>1</td>\n",
       "      <td>1</td>\n",
       "    </tr>\n",
       "    <tr>\n",
       "      <th>6</th>\n",
       "      <td>0.0</td>\n",
       "      <td>0.0</td>\n",
       "      <td>8.500000</td>\n",
       "      <td>3</td>\n",
       "      <td>8.0</td>\n",
       "      <td>25.0</td>\n",
       "      <td>160.0</td>\n",
       "      <td>28.0</td>\n",
       "      <td>24.0</td>\n",
       "      <td>5</td>\n",
       "      <td>4</td>\n",
       "      <td>0</td>\n",
       "      <td>0</td>\n",
       "      <td>33.0</td>\n",
       "      <td>1.0</td>\n",
       "      <td>23.0</td>\n",
       "      <td>1</td>\n",
       "      <td>1</td>\n",
       "    </tr>\n",
       "    <tr>\n",
       "      <th>7</th>\n",
       "      <td>0.0</td>\n",
       "      <td>0.0</td>\n",
       "      <td>7.000000</td>\n",
       "      <td>3</td>\n",
       "      <td>8.0</td>\n",
       "      <td>25.0</td>\n",
       "      <td>160.0</td>\n",
       "      <td>30.0</td>\n",
       "      <td>25.0</td>\n",
       "      <td>5</td>\n",
       "      <td>4</td>\n",
       "      <td>0</td>\n",
       "      <td>0</td>\n",
       "      <td>34.0</td>\n",
       "      <td>1.0</td>\n",
       "      <td>24.0</td>\n",
       "      <td>1</td>\n",
       "      <td>1</td>\n",
       "    </tr>\n",
       "    <tr>\n",
       "      <th>8</th>\n",
       "      <td>0.0</td>\n",
       "      <td>0.0</td>\n",
       "      <td>8.000000</td>\n",
       "      <td>2</td>\n",
       "      <td>8.0</td>\n",
       "      <td>25.0</td>\n",
       "      <td>160.0</td>\n",
       "      <td>4.0</td>\n",
       "      <td>4.0</td>\n",
       "      <td>5</td>\n",
       "      <td>4</td>\n",
       "      <td>0</td>\n",
       "      <td>2</td>\n",
       "      <td>28.0</td>\n",
       "      <td>0.0</td>\n",
       "      <td>27.0</td>\n",
       "      <td>1</td>\n",
       "      <td>1</td>\n",
       "    </tr>\n",
       "    <tr>\n",
       "      <th>9</th>\n",
       "      <td>0.0</td>\n",
       "      <td>0.0</td>\n",
       "      <td>7.333333</td>\n",
       "      <td>0</td>\n",
       "      <td>8.0</td>\n",
       "      <td>25.0</td>\n",
       "      <td>160.0</td>\n",
       "      <td>4.0</td>\n",
       "      <td>3.0</td>\n",
       "      <td>5</td>\n",
       "      <td>4</td>\n",
       "      <td>0</td>\n",
       "      <td>0</td>\n",
       "      <td>29.0</td>\n",
       "      <td>1.0</td>\n",
       "      <td>27.0</td>\n",
       "      <td>1</td>\n",
       "      <td>1</td>\n",
       "    </tr>\n",
       "  </tbody>\n",
       "</table>\n",
       "</div>"
      ],
      "text/plain": [
       "   comprehension  brand_likability   nps_p3m  nps_p3m_group  visit  ppa_y  \\\n",
       "0            0.0               0.0  7.500000              0    8.0   25.0   \n",
       "1            0.0               0.0  8.250000              2    8.0   25.0   \n",
       "2            0.0               0.0  8.000000              3    8.0   25.0   \n",
       "3            0.0               0.0  7.333333              0    8.0   25.0   \n",
       "4            0.0               0.0  8.000000              2    8.0   25.0   \n",
       "5            0.0               0.0  8.333333              2    8.0   25.0   \n",
       "6            0.0               0.0  8.500000              3    8.0   25.0   \n",
       "7            0.0               0.0  7.000000              3    8.0   25.0   \n",
       "8            0.0               0.0  8.000000              2    8.0   25.0   \n",
       "9            0.0               0.0  7.333333              0    8.0   25.0   \n",
       "\n",
       "   spending_y  visit#dayofweek  visit#daypart  segmentation  companion#group  \\\n",
       "0       160.0             20.0           12.0             5                4   \n",
       "1       160.0             16.0           14.0             5                4   \n",
       "2       160.0             20.0           12.0             5                4   \n",
       "3       160.0             28.0           24.0             5                4   \n",
       "4       160.0             20.0           17.0             5                4   \n",
       "5       160.0             28.0           24.0             5                4   \n",
       "6       160.0             28.0           24.0             5                4   \n",
       "7       160.0             30.0           25.0             5                4   \n",
       "8       160.0              4.0            4.0             5                4   \n",
       "9       160.0              4.0            3.0             5                4   \n",
       "\n",
       "   needstategroup  needstates   Age  Gender  Occupation  MPI#2  \\\n",
       "0               0           0  29.0     0.0        27.0      1   \n",
       "1               0           0  25.0     1.0        27.0      1   \n",
       "2               0           0  25.0     0.0        27.0      1   \n",
       "3               0           0  24.0     1.0        24.0      1   \n",
       "4               0           0  26.0     1.0        23.0      1   \n",
       "5               0           0  33.0     1.0        27.0      1   \n",
       "6               0           0  33.0     1.0        23.0      1   \n",
       "7               0           0  34.0     1.0        24.0      1   \n",
       "8               0           2  28.0     0.0        27.0      1   \n",
       "9               0           0  29.0     1.0        27.0      1   \n",
       "\n",
       "   segment_cluster  \n",
       "0                1  \n",
       "1                1  \n",
       "2                1  \n",
       "3                1  \n",
       "4                1  \n",
       "5                1  \n",
       "6                1  \n",
       "7                1  \n",
       "8                1  \n",
       "9                1  "
      ]
     },
     "execution_count": 80,
     "metadata": {},
     "output_type": "execute_result"
    }
   ],
   "source": [
    "import pandas as pd\n",
    "from sklearn.preprocessing import LabelEncoder\n",
    "\n",
    "# Tạo X để model sau dùng\n",
    "X = df[features].copy()\n",
    "\n",
    "# Xử lý missing value\n",
    "X = X.fillna(X.median(numeric_only=True))\n",
    "\n",
    "# Điền 0 cho các cột perceptual bị thiếu\n",
    "X[\"comprehension\"] = X[\"comprehension\"].fillna(0)\n",
    "X[\"brand_likability\"] = X[\"brand_likability\"].fillna(0)\n",
    "\n",
    "# Với các cột còn lại thì giữ như cũ\n",
    "X = X.fillna(X.median(numeric_only=True))\n",
    "\n",
    "# Encode các cột dạng object (text)\n",
    "for col in X.select_dtypes(include=\"object\").columns:\n",
    "    le = LabelEncoder()\n",
    "    X[col] = le.fit_transform(X[col].astype(str))\n",
    "\n",
    "# Kiểm tra X\n",
    "print(\"Xử lý xong feature. Kích thước:\", X.shape)\n",
    "X.head(10)\n"
   ]
  },
  {
   "cell_type": "markdown",
   "id": "48838859",
   "metadata": {},
   "source": [
    "### Do NaN ở cột Comprehension với Brand_likebility thường ở khách ko biết hoặc ko nhớ brand.Coi như ko hiểu, ko thích ->0 điểm"
   ]
  },
  {
   "cell_type": "markdown",
   "id": "59dd17d7",
   "metadata": {},
   "source": [
    "## Kiểm tra sau khi xử lý missing value và encode"
   ]
  },
  {
   "cell_type": "code",
   "execution_count": 55,
   "id": "25fe99f3",
   "metadata": {},
   "outputs": [
    {
     "name": "stdout",
     "output_type": "stream",
     "text": [
      "comprehension       float64\n",
      "brand_likability    float64\n",
      "nps_p3m             float64\n",
      "nps_p3m_group         int64\n",
      "visit               float64\n",
      "ppa_y               float64\n",
      "spending_y          float64\n",
      "visit#dayofweek     float64\n",
      "visit#daypart       float64\n",
      "segmentation          int64\n",
      "companion#group       int64\n",
      "needstategroup        int64\n",
      "needstates            int64\n",
      "Age                 float64\n",
      "Gender              float64\n",
      "Occupation          float64\n",
      "MPI#2                 int64\n",
      "dtype: object\n",
      "0\n"
     ]
    }
   ],
   "source": [
    "print(X.dtypes)\n",
    "print(X.isnull().sum().sum())  # Số NaN sau xử lý"
   ]
  },
  {
   "cell_type": "markdown",
   "id": "0cecacd9",
   "metadata": {},
   "source": [
    "# STEP 2: Customer Segmentation Modeling"
   ]
  },
  {
   "cell_type": "markdown",
   "id": "907f9899",
   "metadata": {},
   "source": [
    "## 🎯 Tiêu chí chọn: Những đặc trưng không phụ thuộc vào churn . Thể hiện hành vi, cảm nhận, nhân khẩu học"
   ]
  },
  {
   "cell_type": "code",
   "execution_count": 56,
   "id": "9513887f",
   "metadata": {},
   "outputs": [],
   "source": [
    "cluster_features = [\n",
    "    \"comprehension\", \"brand_likability\", \"nps_p3m\",\n",
    "    \"visit\", \"ppa_y\", \"spending_y\",\n",
    "    \"segmentation\", \"needstategroup\", \"Age\", \"MPI#2\"\n",
    "]\n",
    "\n",
    "X_cluster = X[cluster_features].copy()\n"
   ]
  },
  {
   "cell_type": "markdown",
   "id": "c4795d3a",
   "metadata": {},
   "source": [
    "## Standardize"
   ]
  },
  {
   "cell_type": "code",
   "execution_count": 57,
   "id": "6c803d30",
   "metadata": {},
   "outputs": [],
   "source": [
    "from sklearn.preprocessing import StandardScaler\n",
    "\n",
    "scaler = StandardScaler()\n",
    "X_scaled = scaler.fit_transform(X_cluster)\n"
   ]
  },
  {
   "cell_type": "markdown",
   "id": "4721c3ac",
   "metadata": {},
   "source": [
    "## Chọn số lượng cụm (K) – Elbow method"
   ]
  },
  {
   "cell_type": "code",
   "execution_count": 58,
   "id": "ca030e97",
   "metadata": {},
   "outputs": [
    {
     "data": {
      "image/png": "[encoded data removed]",
      "text/plain": [
       "<Figure size 640x480 with 1 Axes>"
      ]
     },
     "metadata": {},
     "output_type": "display_data"
    }
   ],
   "source": [
    "from sklearn.cluster import KMeans\n",
    "import matplotlib.pyplot as plt\n",
    "\n",
    "inertias = []\n",
    "K_range = range(2, 11)\n",
    "for k in K_range:\n",
    "    kmeans = KMeans(n_clusters=k, random_state=42, n_init=10)\n",
    "    kmeans.fit(X_scaled)\n",
    "    inertias.append(kmeans.inertia_)\n",
    "\n",
    "plt.plot(K_range, inertias, marker='o')\n",
    "plt.xlabel(\"Number of clusters (k)\")\n",
    "plt.ylabel(\"Inertia\")\n",
    "plt.title(\"Elbow Method to choose optimal k\")\n",
    "plt.grid(True)\n",
    "plt.show()\n"
   ]
  },
  {
   "cell_type": "markdown",
   "id": "ce577dd1",
   "metadata": {},
   "source": [
    "## (Optional) Silhouette Score để xác nhận"
   ]
  },
  {
   "cell_type": "code",
   "execution_count": 59,
   "id": "e49dbd8b",
   "metadata": {},
   "outputs": [
    {
     "name": "stdout",
     "output_type": "stream",
     "text": [
      "Silhouette score for k=2: 0.427\n",
      "Silhouette score for k=3: 0.321\n",
      "Silhouette score for k=4: 0.318\n",
      "Silhouette score for k=5: 0.338\n",
      "Silhouette score for k=6: 0.230\n"
     ]
    }
   ],
   "source": [
    "from sklearn.metrics import silhouette_score\n",
    "\n",
    "for k in range(2, 7):\n",
    "    kmeans = KMeans(n_clusters=k, random_state=42, n_init=10)\n",
    "    labels = kmeans.fit_predict(X_scaled)\n",
    "    score = silhouette_score(X_scaled, labels)\n",
    "    print(f\"Silhouette score for k={k}: {score:.3f}\")\n"
   ]
  },
  {
   "cell_type": "markdown",
   "id": "a623056e",
   "metadata": {},
   "source": [
    "## Huấn luyện mô hình KMeans cuối cùng"
   ]
  },
  {
   "cell_type": "code",
   "execution_count": 81,
   "id": "b3edbd33",
   "metadata": {},
   "outputs": [],
   "source": [
    "optimal_k = 4  # ví dụ sau khi xem elbow\n",
    "kmeans_final = KMeans(n_clusters=optimal_k, random_state=42, n_init=10)\n",
    "X[\"segment_cluster\"] = kmeans_final.fit_predict(X_scaled)\n",
    "df[\"segment_cluster\"] = X[\"segment_cluster\"]\n"
   ]
  },
  {
   "cell_type": "markdown",
   "id": "91d7d243",
   "metadata": {},
   "source": [
    "##  Phân tích profile từng cụm"
   ]
  },
  {
   "cell_type": "code",
   "execution_count": 82,
   "id": "f677a2fe",
   "metadata": {},
   "outputs": [
    {
     "data": {
      "image/png": "[encoded data removed]",
      "text/plain": [
       "<Figure size 1200x600 with 2 Axes>"
      ]
     },
     "metadata": {},
     "output_type": "display_data"
    }
   ],
   "source": [
    "cluster_profile = X.assign(cluster=X[\"segment_cluster\"]).groupby(\"cluster\").mean()\n",
    "import seaborn as sns\n",
    "\n",
    "plt.figure(figsize=(12, 6))\n",
    "sns.heatmap(cluster_profile.T, annot=True, fmt=\".1f\", cmap=\"YlGnBu\")\n",
    "plt.title(\"Segment Profiles (Mean of features by cluster)\")\n",
    "plt.tight_layout()\n",
    "plt.show()\n"
   ]
  },
  {
   "cell_type": "markdown",
   "id": "dcdd5e2b",
   "metadata": {},
   "source": [
    "# STEP 3: CHURN PREDICTION MODELING"
   ]
  },
  {
   "cell_type": "markdown",
   "id": "ecadf5ca",
   "metadata": {},
   "source": [
    "## Tạo churn flag"
   ]
  },
  {
   "cell_type": "code",
   "execution_count": 62,
   "id": "747c8761",
   "metadata": {},
   "outputs": [
    {
     "data": {
      "text/plain": [
       "churn_flag\n",
       "0    11758\n",
       "1        3\n",
       "Name: count, dtype: int64"
      ]
     },
     "execution_count": 62,
     "metadata": {},
     "output_type": "execute_result"
    }
   ],
   "source": [
    "df[\"p3m\"] = df[\"p3m\"].fillna(0)\n",
    "df[\"p1m\"] = df[\"p1m\"].fillna(0)\n",
    "\n",
    "df[\"churn_flag\"] = df.apply(\n",
    "    lambda x: 1 if (x[\"p3m\"] == 1 and x[\"p1m\"] == 0) else 0,\n",
    "    axis=1\n",
    ")\n",
    "\n",
    "df[\"churn_flag\"].value_counts()\n"
   ]
  },
  {
   "cell_type": "markdown",
   "id": "db383c95",
   "metadata": {},
   "source": [
    "##  Chọn tập đặc trưng (features) "
   ]
  },
  {
   "cell_type": "code",
   "execution_count": 69,
   "id": "be7a460a",
   "metadata": {},
   "outputs": [],
   "source": [
    "features = [\n",
    "    \"comprehension\", \"brand_likability\", \"nps_p3m\", \"nps_p3m_group\",\n",
    "    \"visit\", \"ppa_y\", \"spending_y\", \"visit#dayofweek\", \"visit#daypart\",\n",
    "    \"segmentation\", \"companion#group\", \"needstategroup\", \"needstates\",\n",
    "    \"Age\", \"Gender\", \"Occupation\", \"MPI#2\",\n",
    "    \"segment_cluster\"  # Gắn từ bước phân cụm\n",
    "]\n",
    "\n",
    "\n",
    "X = df[features].copy()\n",
    "y = df[\"churn_flag\"]"
   ]
  },
  {
   "cell_type": "markdown",
   "id": "a97be30a",
   "metadata": {},
   "source": [
    "## Tạo X, y và xử lý missing / encode\n",
    " "
   ]
  },
  {
   "cell_type": "code",
   "execution_count": 70,
   "id": "f891c301",
   "metadata": {},
   "outputs": [],
   "source": [
    "X = df[features].copy()\n",
    "y = df[\"churn_flag\"]\n",
    "\n",
    "# Fill NaN\n",
    "X = X.fillna(X.median(numeric_only=True))\n",
    "\n",
    "# Encode cột object (nếu có)\n",
    "from sklearn.preprocessing import LabelEncoder\n",
    "for col in X.select_dtypes(include=\"object\").columns:\n",
    "    le = LabelEncoder()\n",
    "    X[col] = le.fit_transform(X[col].astype(str))\n"
   ]
  },
  {
   "cell_type": "markdown",
   "id": "3df3706a",
   "metadata": {},
   "source": [
    "## Xử lý mất cân bằng (upsample churn = 1)"
   ]
  },
  {
   "cell_type": "code",
   "execution_count": null,
   "id": "096c1970",
   "metadata": {},
   "outputs": [],
   "source": [
    "df_balanced = X.copy()\n",
    "df_balanced[\"churn_flag\"] = y\n",
    "\n",
    "churn = df_balanced[df_balanced[\"churn_flag\"] == 1]\n",
    "non_churn = df_balanced[df_balanced[\"churn_flag\"] == 0]\n",
    "\n",
    "churn_upsampled = resample(churn, replace=True, n_samples=500, random_state=42)\n",
    "\n",
    "df_final = pd.concat([non_churn, churn_upsampled]).sample(frac=1, random_state=42)\n",
    "\n",
    "X_final = df_final.drop(columns=[\"churn_flag\"])\n",
    "y_final = df_final[\"churn_flag\"]\n"
   ]
  },
  {
   "cell_type": "markdown",
   "id": "e1436f63",
   "metadata": {},
   "source": [
    "## Chia tập train/test"
   ]
  },
  {
   "cell_type": "code",
   "execution_count": 72,
   "id": "294cf18e",
   "metadata": {},
   "outputs": [],
   "source": [
    "from sklearn.model_selection import train_test_split\n",
    "\n",
    "X_train, X_test, y_train, y_test = train_test_split(\n",
    "    X_final, y_final, test_size=0.2, random_state=42, stratify=y_final\n",
    ")\n"
   ]
  },
  {
   "cell_type": "markdown",
   "id": "2a3a099d",
   "metadata": {},
   "source": [
    "## Huấn luyện mô hình Random Forest (baseline)\n"
   ]
  },
  {
   "cell_type": "code",
   "execution_count": 73,
   "id": "efef5451",
   "metadata": {},
   "outputs": [
    {
     "name": "stdout",
     "output_type": "stream",
     "text": [
      "[[2352    0]\n",
      " [   0  100]]\n",
      "              precision    recall  f1-score   support\n",
      "\n",
      "           0       1.00      1.00      1.00      2352\n",
      "           1       1.00      1.00      1.00       100\n",
      "\n",
      "    accuracy                           1.00      2452\n",
      "   macro avg       1.00      1.00      1.00      2452\n",
      "weighted avg       1.00      1.00      1.00      2452\n",
      "\n"
     ]
    }
   ],
   "source": [
    "from sklearn.ensemble import RandomForestClassifier\n",
    "from sklearn.metrics import classification_report, confusion_matrix\n",
    "\n",
    "rf = RandomForestClassifier(random_state=42)\n",
    "rf.fit(X_train, y_train)\n",
    "\n",
    "y_pred = rf.predict(X_test)\n",
    "print(confusion_matrix(y_test, y_pred))\n",
    "print(classification_report(y_test, y_pred))\n"
   ]
  },
  {
   "cell_type": "markdown",
   "id": "50c5d72b",
   "metadata": {},
   "source": [
    "## Tuning với GridSearchCV "
   ]
  },
  {
   "cell_type": "code",
   "execution_count": 76,
   "id": "419d04d8",
   "metadata": {},
   "outputs": [
    {
     "name": "stdout",
     "output_type": "stream",
     "text": [
      "✅ Best Params: {'max_depth': 10, 'min_samples_split': 2, 'n_estimators': 100}\n"
     ]
    }
   ],
   "source": [
    "from sklearn.model_selection import GridSearchCV\n",
    "from sklearn.ensemble import RandomForestClassifier\n",
    "\n",
    "param_grid = {\n",
    "    \"n_estimators\": [100, 200],\n",
    "    \"max_depth\": [5, 10, None],\n",
    "    \"min_samples_split\": [2, 5]\n",
    "}\n",
    "\n",
    "grid = GridSearchCV(\n",
    "    estimator=RandomForestClassifier(random_state=42),\n",
    "    param_grid=param_grid,\n",
    "    scoring=\"f1\",\n",
    "    cv=3,\n",
    "    n_jobs=-1\n",
    ")\n",
    "grid.fit(X_train, y_train)\n",
    "\n",
    "best_model = grid.best_estimator_\n",
    "print(\"✅ Best Params:\", grid.best_params_)\n"
   ]
  },
  {
   "cell_type": "markdown",
   "id": "d52df163",
   "metadata": {},
   "source": [
    "## Phân tích churn driver (feature importance)\n"
   ]
  },
  {
   "cell_type": "code",
   "execution_count": 77,
   "id": "7d85ea4c",
   "metadata": {},
   "outputs": [
    {
     "name": "stderr",
     "output_type": "stream",
     "text": [
      "C:\\Users\\Dell\\AppData\\Local\\Temp\\ipykernel_24876\\789820241.py:15: UserWarning: Glyph 128293 (\\N{FIRE}) missing from font(s) DejaVu Sans.\n",
      "  plt.tight_layout()\n",
      "C:\\Users\\Dell\\AppData\\Roaming\\Python\\Python310\\site-packages\\IPython\\core\\pylabtools.py:170: UserWarning: Glyph 128293 (\\N{FIRE}) missing from font(s) DejaVu Sans.\n",
      "  fig.canvas.print_figure(bytes_io, **kw)\n"
     ]
    },
    {
     "data": {
      "image/png": "[encoded data removed]",
      "text/plain": [
       "<Figure size 1000x600 with 1 Axes>"
      ]
     },
     "metadata": {},
     "output_type": "display_data"
    }
   ],
   "source": [
    "import matplotlib.pyplot as plt\n",
    "import seaborn as sns\n",
    "import pandas as pd\n",
    "\n",
    "# Lấy importance\n",
    "importances = best_model.feature_importances_\n",
    "feat_imp = pd.Series(importances, index=X_train.columns).sort_values(ascending=False)\n",
    "\n",
    "# Vẽ biểu đồ\n",
    "plt.figure(figsize=(10, 6))\n",
    "sns.barplot(x=feat_imp.values, y=feat_imp.index)\n",
    "plt.title(\"🔥 Feature Importance – Churn Drivers\")\n",
    "plt.xlabel(\"Importance\")\n",
    "plt.ylabel(\"Feature\")\n",
    "plt.tight_layout()\n",
    "plt.show()\n"
   ]
  }
 ],
 "metadata": {
  "kernelspec": {
   "display_name": "Python 3",
   "language": "python",
   "name": "python3"
  },
  "language_info": {
   "codemirror_mode": {
    "name": "ipython",
    "version": 3
   },
   "file_extension": ".py",
   "mimetype": "text/x-python",
   "name": "python",
   "nbconvert_exporter": "python",
   "pygments_lexer": "ipython3",
   "version": "3.10.11"
  }
 },
 "nbformat": 4,
 "nbformat_minor": 5
}
